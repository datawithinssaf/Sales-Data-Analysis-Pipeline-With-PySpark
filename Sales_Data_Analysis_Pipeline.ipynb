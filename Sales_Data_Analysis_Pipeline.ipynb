{
  "nbformat": 4,
  "nbformat_minor": 0,
  "metadata": {
    "colab": {
      "provenance": []
    },
    "kernelspec": {
      "name": "python3",
      "display_name": "Python 3"
    },
    "language_info": {
      "name": "python"
    }
  },
  "cells": [
    {
      "cell_type": "markdown",
      "source": [
        "# **Importing the Dataset from Kaggle**"
      ],
      "metadata": {
        "id": "WjZbSp0V7cym"
      }
    },
    {
      "cell_type": "markdown",
      "source": [
        "In this section, we connect Google Drive to access the Kaggle API token stored inside it.  \n",
        "Using the Kaggle API, we import the **Superstore Sales Dataset**, which is a retail dataset of a global superstore collected over four years.  \n",
        "After downloading, we unzip the dataset files so that we can start exploring and analyzing them with PySpark."
      ],
      "metadata": {
        "id": "I2cn6iPL8baU"
      }
    },
    {
      "cell_type": "code",
      "execution_count": 2,
      "metadata": {
        "colab": {
          "base_uri": "https://localhost:8080/"
        },
        "id": "oDB1b2Me22as",
        "outputId": "7d907be0-b9a2-4da9-8105-93503319778f"
      },
      "outputs": [
        {
          "output_type": "stream",
          "name": "stdout",
          "text": [
            "Mounted at /content/drive\n"
          ]
        }
      ],
      "source": [
        "from google.colab import drive\n",
        "drive.mount('/content/drive')"
      ]
    },
    {
      "cell_type": "code",
      "source": [
        "!mkdir ~/.kaggle\n",
        "!cp /content/drive/MyDrive/kaggle/kaggle.json ~/.kaggle/\n",
        "!chmod 600 ~/.kaggle/kaggle.json"
      ],
      "metadata": {
        "id": "IUnGfIB-68nA"
      },
      "execution_count": 3,
      "outputs": []
    },
    {
      "cell_type": "code",
      "source": [
        "!kaggle datasets download -d rohitsahoo/sales-forecasting"
      ],
      "metadata": {
        "colab": {
          "base_uri": "https://localhost:8080/"
        },
        "id": "gAy3-ced7HtK",
        "outputId": "48c6dc71-4dcc-40bd-c462-443dc5009d8d"
      },
      "execution_count": 4,
      "outputs": [
        {
          "output_type": "stream",
          "name": "stdout",
          "text": [
            "Dataset URL: https://www.kaggle.com/datasets/rohitsahoo/sales-forecasting\n",
            "License(s): GPL-2.0\n",
            "Downloading sales-forecasting.zip to /content\n",
            "  0% 0.00/480k [00:00<?, ?B/s]\n",
            "100% 480k/480k [00:00<00:00, 966MB/s]\n"
          ]
        }
      ]
    },
    {
      "cell_type": "code",
      "source": [
        "!unzip -o sales-forecasting.zip"
      ],
      "metadata": {
        "colab": {
          "base_uri": "https://localhost:8080/"
        },
        "id": "SXl1n92g7hy2",
        "outputId": "769662ab-9644-46b9-ebae-8294f91b025d"
      },
      "execution_count": 5,
      "outputs": [
        {
          "output_type": "stream",
          "name": "stdout",
          "text": [
            "Archive:  sales-forecasting.zip\n",
            "  inflating: train.csv               \n"
          ]
        }
      ]
    },
    {
      "cell_type": "markdown",
      "source": [
        "# **Reading CSV File**"
      ],
      "metadata": {
        "id": "i9NbV0-x8paF"
      }
    },
    {
      "cell_type": "code",
      "source": [
        "from pyspark.sql import SparkSession\n",
        "spark = SparkSession.builder.appName(\"SalesAnalysis\").getOrCreate()"
      ],
      "metadata": {
        "id": "R5C7mMPu8sW9"
      },
      "execution_count": 6,
      "outputs": []
    },
    {
      "cell_type": "code",
      "source": [
        "# Define the dataset path\n",
        "path = \"/content/train.csv\"\n",
        "\n",
        "# Read the CSV file into a Spark DataFrame\n",
        "df = spark.read.csv(path, header=True, inferSchema=True)\n",
        "\n",
        "# Display the first 5 rows of the DataFrame\n",
        "df.show(5)"
      ],
      "metadata": {
        "colab": {
          "base_uri": "https://localhost:8080/"
        },
        "id": "Ik1sOIoX-CpY",
        "outputId": "8dbd682d-2238-48bb-e7fd-e8d3b920be96"
      },
      "execution_count": 7,
      "outputs": [
        {
          "output_type": "stream",
          "name": "stdout",
          "text": [
            "+------+--------------+----------+----------+--------------+-----------+---------------+---------+-------------+---------------+----------+-----------+------+---------------+---------------+------------+--------------------+--------+\n",
            "|Row ID|      Order ID|Order Date| Ship Date|     Ship Mode|Customer ID|  Customer Name|  Segment|      Country|           City|     State|Postal Code|Region|     Product ID|       Category|Sub-Category|        Product Name|   Sales|\n",
            "+------+--------------+----------+----------+--------------+-----------+---------------+---------+-------------+---------------+----------+-----------+------+---------------+---------------+------------+--------------------+--------+\n",
            "|     1|CA-2017-152156|08/11/2017|11/11/2017|  Second Class|   CG-12520|    Claire Gute| Consumer|United States|      Henderson|  Kentucky|      42420| South|FUR-BO-10001798|      Furniture|   Bookcases|Bush Somerset Col...|  261.96|\n",
            "|     2|CA-2017-152156|08/11/2017|11/11/2017|  Second Class|   CG-12520|    Claire Gute| Consumer|United States|      Henderson|  Kentucky|      42420| South|FUR-CH-10000454|      Furniture|      Chairs|Hon Deluxe Fabric...|  731.94|\n",
            "|     3|CA-2017-138688|12/06/2017|16/06/2017|  Second Class|   DV-13045|Darrin Van Huff|Corporate|United States|    Los Angeles|California|      90036|  West|OFF-LA-10000240|Office Supplies|      Labels|Self-Adhesive Add...|   14.62|\n",
            "|     4|US-2016-108966|11/10/2016|18/10/2016|Standard Class|   SO-20335| Sean O'Donnell| Consumer|United States|Fort Lauderdale|   Florida|      33311| South|FUR-TA-10000577|      Furniture|      Tables|Bretford CR4500 S...|957.5775|\n",
            "|     5|US-2016-108966|11/10/2016|18/10/2016|Standard Class|   SO-20335| Sean O'Donnell| Consumer|United States|Fort Lauderdale|   Florida|      33311| South|OFF-ST-10000760|Office Supplies|     Storage|Eldon Fold 'N Rol...|  22.368|\n",
            "+------+--------------+----------+----------+--------------+-----------+---------------+---------+-------------+---------------+----------+-----------+------+---------------+---------------+------------+--------------------+--------+\n",
            "only showing top 5 rows\n",
            "\n"
          ]
        }
      ]
    },
    {
      "cell_type": "code",
      "source": [
        "# Number of rows\n",
        "df.count()"
      ],
      "metadata": {
        "colab": {
          "base_uri": "https://localhost:8080/"
        },
        "id": "A-w4JXtDOw1u",
        "outputId": "1ebff798-dfea-4139-ee37-638ae5b4eccb"
      },
      "execution_count": 8,
      "outputs": [
        {
          "output_type": "execute_result",
          "data": {
            "text/plain": [
              "9800"
            ]
          },
          "metadata": {},
          "execution_count": 8
        }
      ]
    },
    {
      "cell_type": "code",
      "source": [
        "# To see basic statistics of numeric columns\n",
        "df.describe().show()"
      ],
      "metadata": {
        "colab": {
          "base_uri": "https://localhost:8080/"
        },
        "id": "m-iACAm6bgLa",
        "outputId": "89f60b43-c7d2-4342-e567-b770c797760d"
      },
      "execution_count": 9,
      "outputs": [
        {
          "output_type": "stream",
          "name": "stdout",
          "text": [
            "+-------+------------------+--------------+----------+----------+--------------+-----------+------------------+-----------+-------------+--------+-------+------------------+-------+---------------+----------+------------+--------------------+-----------------+\n",
            "|summary|            Row ID|      Order ID|Order Date| Ship Date|     Ship Mode|Customer ID|     Customer Name|    Segment|      Country|    City|  State|       Postal Code| Region|     Product ID|  Category|Sub-Category|        Product Name|            Sales|\n",
            "+-------+------------------+--------------+----------+----------+--------------+-----------+------------------+-----------+-------------+--------+-------+------------------+-------+---------------+----------+------------+--------------------+-----------------+\n",
            "|  count|              9800|          9800|      9800|      9800|          9800|       9800|              9800|       9800|         9800|    9800|   9800|              9789|   9800|           9800|      9800|        9800|                9800|             9800|\n",
            "|   mean|            4900.5|          NULL|      NULL|      NULL|          NULL|       NULL|              NULL|       NULL|         NULL|    NULL|   NULL|55273.322402696904|   NULL|           NULL|      NULL|        NULL|                NULL|235.2895627576727|\n",
            "| stddev|2829.1606529145706|          NULL|      NULL|      NULL|          NULL|       NULL|              NULL|       NULL|         NULL|    NULL|   NULL|32041.223412813004|   NULL|           NULL|      NULL|        NULL|                NULL| 635.178384045279|\n",
            "|    min|                 1|CA-2015-100006|01/01/2018|01/01/2016|   First Class|   AA-10315|     Aaron Bergman|   Consumer|United States|Aberdeen|Alabama|              1040|Central|FUR-BO-10000112| Furniture| Accessories|\"\"\"While you Were...|         10/Pack\"|\n",
            "|    max|              9800|US-2018-169551|31/12/2017|31/12/2018|Standard Class|   ZD-21925|Zuschuss Donatelli|Home Office|United States|    Yuma|Wyoming|             99301|   West|TEC-PH-10004977|Technology|      Tables|netTALK DUO VoIP ...|           999.98|\n",
            "+-------+------------------+--------------+----------+----------+--------------+-----------+------------------+-----------+-------------+--------+-------+------------------+-------+---------------+----------+------------+--------------------+-----------------+\n",
            "\n"
          ]
        }
      ]
    },
    {
      "cell_type": "code",
      "source": [
        "# Print the schema (structure) of the DataFrame\n",
        "df.printSchema()"
      ],
      "metadata": {
        "colab": {
          "base_uri": "https://localhost:8080/"
        },
        "id": "FdXDtJRb-JNf",
        "outputId": "a92f56ab-4a2b-4b4c-cf70-9c0ad9747c5c"
      },
      "execution_count": 10,
      "outputs": [
        {
          "output_type": "stream",
          "name": "stdout",
          "text": [
            "root\n",
            " |-- Row ID: integer (nullable = true)\n",
            " |-- Order ID: string (nullable = true)\n",
            " |-- Order Date: string (nullable = true)\n",
            " |-- Ship Date: string (nullable = true)\n",
            " |-- Ship Mode: string (nullable = true)\n",
            " |-- Customer ID: string (nullable = true)\n",
            " |-- Customer Name: string (nullable = true)\n",
            " |-- Segment: string (nullable = true)\n",
            " |-- Country: string (nullable = true)\n",
            " |-- City: string (nullable = true)\n",
            " |-- State: string (nullable = true)\n",
            " |-- Postal Code: integer (nullable = true)\n",
            " |-- Region: string (nullable = true)\n",
            " |-- Product ID: string (nullable = true)\n",
            " |-- Category: string (nullable = true)\n",
            " |-- Sub-Category: string (nullable = true)\n",
            " |-- Product Name: string (nullable = true)\n",
            " |-- Sales: string (nullable = true)\n",
            "\n"
          ]
        }
      ]
    },
    {
      "cell_type": "code",
      "source": [
        "# Check column names with their data types\n",
        "df.dtypes"
      ],
      "metadata": {
        "colab": {
          "base_uri": "https://localhost:8080/"
        },
        "id": "Ng2ocr4B-KpN",
        "outputId": "22626863-b167-494d-dc7c-27aea05d5d12"
      },
      "execution_count": 11,
      "outputs": [
        {
          "output_type": "execute_result",
          "data": {
            "text/plain": [
              "[('Row ID', 'int'),\n",
              " ('Order ID', 'string'),\n",
              " ('Order Date', 'string'),\n",
              " ('Ship Date', 'string'),\n",
              " ('Ship Mode', 'string'),\n",
              " ('Customer ID', 'string'),\n",
              " ('Customer Name', 'string'),\n",
              " ('Segment', 'string'),\n",
              " ('Country', 'string'),\n",
              " ('City', 'string'),\n",
              " ('State', 'string'),\n",
              " ('Postal Code', 'int'),\n",
              " ('Region', 'string'),\n",
              " ('Product ID', 'string'),\n",
              " ('Category', 'string'),\n",
              " ('Sub-Category', 'string'),\n",
              " ('Product Name', 'string'),\n",
              " ('Sales', 'string')]"
            ]
          },
          "metadata": {},
          "execution_count": 11
        }
      ]
    },
    {
      "cell_type": "markdown",
      "source": [
        "The **Segment** column has 3 unique values: *Consumer*, *Corporate*, and *Home Office*.\n",
        "\n",
        "- **Consumer**: individual buyers purchasing products for personal use.  \n",
        "- **Corporate**: businesses or companies purchasing in bulk for their offices or employees.  \n",
        "- **Home Office**: small or self-employed individuals running a business from home, such as freelancers or small startups."
      ],
      "metadata": {
        "id": "QWwaGY5JKu5M"
      }
    },
    {
      "cell_type": "code",
      "source": [
        "# Get unique values from the Segment column\n",
        "df.select(\"Segment\").distinct().show()"
      ],
      "metadata": {
        "colab": {
          "base_uri": "https://localhost:8080/"
        },
        "id": "Dtw7DpuiKzwt",
        "outputId": "5b90d16f-9734-41f8-f053-8261849a834c"
      },
      "execution_count": 12,
      "outputs": [
        {
          "output_type": "stream",
          "name": "stdout",
          "text": [
            "+-----------+\n",
            "|    Segment|\n",
            "+-----------+\n",
            "|   Consumer|\n",
            "|Home Office|\n",
            "|  Corporate|\n",
            "+-----------+\n",
            "\n"
          ]
        }
      ]
    },
    {
      "cell_type": "markdown",
      "source": [
        "In this section, we correct the data types of some columns.  \n",
        "As you can see, the columns **\"Order Date\"** and **\"Ship Date\"** were strings but should be converted to dates.  \n",
        "The column **\"Postal Code\"** should be an integer, and **\"Sales\"** should be a double for numerical calculations."
      ],
      "metadata": {
        "id": "9DSP84cbNk55"
      }
    },
    {
      "cell_type": "code",
      "source": [
        "# Change the types of the columns to their correct types\n",
        "from pyspark.sql.functions import col, to_date\n",
        "\n",
        "# Convert numeric columns\n",
        "df = df.withColumn(\"Sales\", col(\"Sales\").cast(\"double\"))\n",
        "df = df.withColumn(\"Postal Code\", col(\"Postal Code\").cast(\"int\"))\n",
        "\n",
        "# Convert date columns (notice the corrected quotes and format)\n",
        "df = df.withColumn(\"Order Date\", to_date(col(\"Order Date\"), \"dd/MM/yyyy\"))\n",
        "df = df.withColumn(\"Ship Date\", to_date(col(\"Ship Date\"), \"dd/MM/yyyy\"))"
      ],
      "metadata": {
        "id": "p9LF8MaEKvGn"
      },
      "execution_count": 13,
      "outputs": []
    },
    {
      "cell_type": "code",
      "source": [
        "# Check column names with their data types\n",
        "df.dtypes"
      ],
      "metadata": {
        "colab": {
          "base_uri": "https://localhost:8080/"
        },
        "id": "sySP23EGNq5l",
        "outputId": "54cbef09-3446-4cf5-c0dc-cc7fdcdb8ae5"
      },
      "execution_count": 14,
      "outputs": [
        {
          "output_type": "execute_result",
          "data": {
            "text/plain": [
              "[('Row ID', 'int'),\n",
              " ('Order ID', 'string'),\n",
              " ('Order Date', 'date'),\n",
              " ('Ship Date', 'date'),\n",
              " ('Ship Mode', 'string'),\n",
              " ('Customer ID', 'string'),\n",
              " ('Customer Name', 'string'),\n",
              " ('Segment', 'string'),\n",
              " ('Country', 'string'),\n",
              " ('City', 'string'),\n",
              " ('State', 'string'),\n",
              " ('Postal Code', 'int'),\n",
              " ('Region', 'string'),\n",
              " ('Product ID', 'string'),\n",
              " ('Category', 'string'),\n",
              " ('Sub-Category', 'string'),\n",
              " ('Product Name', 'string'),\n",
              " ('Sales', 'double')]"
            ]
          },
          "metadata": {},
          "execution_count": 14
        }
      ]
    },
    {
      "cell_type": "code",
      "source": [
        "# To check for missing or null values in selected columns\n",
        "def check_nulls(df):\n",
        "    for c in df.columns:\n",
        "        num_null = df.filter((col(c).isNull()) | (col(c) == \"\")).count()\n",
        "        print(f\"The column '{c}' has {num_null} null values.\")\n",
        "\n",
        "check_nulls(df)"
      ],
      "metadata": {
        "colab": {
          "base_uri": "https://localhost:8080/"
        },
        "id": "YMZLETI7cZCJ",
        "outputId": "d29ab69c-b3b8-423b-df73-d6fa245b9777"
      },
      "execution_count": 15,
      "outputs": [
        {
          "output_type": "stream",
          "name": "stdout",
          "text": [
            "The column 'Row ID' has 0 null values.\n",
            "The column 'Order ID' has 0 null values.\n",
            "The column 'Order Date' has 0 null values.\n",
            "The column 'Ship Date' has 0 null values.\n",
            "The column 'Ship Mode' has 0 null values.\n",
            "The column 'Customer ID' has 0 null values.\n",
            "The column 'Customer Name' has 0 null values.\n",
            "The column 'Segment' has 0 null values.\n",
            "The column 'Country' has 0 null values.\n",
            "The column 'City' has 0 null values.\n",
            "The column 'State' has 0 null values.\n",
            "The column 'Postal Code' has 11 null values.\n",
            "The column 'Region' has 0 null values.\n",
            "The column 'Product ID' has 0 null values.\n",
            "The column 'Category' has 0 null values.\n",
            "The column 'Sub-Category' has 0 null values.\n",
            "The column 'Product Name' has 0 null values.\n",
            "The column 'Sales' has 292 null values.\n"
          ]
        }
      ]
    },
    {
      "cell_type": "markdown",
      "source": [
        "*   The **Sales** column is very important for our analysis, so we will drop any rows that contain null values in this column.\n",
        "*   On the other hand, the **Postal Code** column is not as critical since we already have information about the city, state, and region. Therefore, we will replace its null values with a placeholder value of 0.\n"
      ],
      "metadata": {
        "id": "Y3lE-8rBf0VX"
      }
    },
    {
      "cell_type": "code",
      "source": [
        "# Drop the rows where 'Sales' has null values\n",
        "df = df.na.drop(subset=['Sales'])\n",
        "\n",
        "# Replace null values in 'Postal Code' with a placeholder value of 0\n",
        "df = df.na.fill({'Postal Code': 0})"
      ],
      "metadata": {
        "id": "11iRbzw5f0iN"
      },
      "execution_count": 16,
      "outputs": []
    },
    {
      "cell_type": "code",
      "source": [
        "check_nulls(df)"
      ],
      "metadata": {
        "colab": {
          "base_uri": "https://localhost:8080/"
        },
        "id": "Bxx0o_XFgdKa",
        "outputId": "2818d52c-22a0-4944-94bb-f33372e757ce"
      },
      "execution_count": 17,
      "outputs": [
        {
          "output_type": "stream",
          "name": "stdout",
          "text": [
            "The column 'Row ID' has 0 null values.\n",
            "The column 'Order ID' has 0 null values.\n",
            "The column 'Order Date' has 0 null values.\n",
            "The column 'Ship Date' has 0 null values.\n",
            "The column 'Ship Mode' has 0 null values.\n",
            "The column 'Customer ID' has 0 null values.\n",
            "The column 'Customer Name' has 0 null values.\n",
            "The column 'Segment' has 0 null values.\n",
            "The column 'Country' has 0 null values.\n",
            "The column 'City' has 0 null values.\n",
            "The column 'State' has 0 null values.\n",
            "The column 'Postal Code' has 0 null values.\n",
            "The column 'Region' has 0 null values.\n",
            "The column 'Product ID' has 0 null values.\n",
            "The column 'Category' has 0 null values.\n",
            "The column 'Sub-Category' has 0 null values.\n",
            "The column 'Product Name' has 0 null values.\n",
            "The column 'Sales' has 0 null values.\n"
          ]
        }
      ]
    },
    {
      "cell_type": "markdown",
      "source": [
        "# **What are the total sales by product category?**"
      ],
      "metadata": {
        "id": "BkhfxYxOIgup"
      }
    },
    {
      "cell_type": "markdown",
      "source": [
        "We want to know which product categories bring the most revenue."
      ],
      "metadata": {
        "id": "vsz7s_CUIjv3"
      }
    },
    {
      "cell_type": "code",
      "source": [
        "from pyspark.sql import functions as F\n",
        "\n",
        "df.groupBy(\"Category\") \\\n",
        "  .agg(F.sum(\"Sales\").alias(\"Total_Sales\")) \\\n",
        "  .orderBy(F.desc(\"Total_Sales\")) \\\n",
        "  .show()"
      ],
      "metadata": {
        "colab": {
          "base_uri": "https://localhost:8080/"
        },
        "id": "M9ePKS0JIurf",
        "outputId": "8678628e-b0cd-4577-a954-f6f21f8d00eb"
      },
      "execution_count": 18,
      "outputs": [
        {
          "output_type": "stream",
          "name": "stdout",
          "text": [
            "+---------------+-----------------+\n",
            "|       Category|      Total_Sales|\n",
            "+---------------+-----------------+\n",
            "|     Technology|827201.9069999964|\n",
            "|      Furniture|719791.4556999996|\n",
            "|Office Supplies|690139.8000000035|\n",
            "+---------------+-----------------+\n",
            "\n"
          ]
        }
      ]
    },
    {
      "cell_type": "markdown",
      "source": [
        "# **What are the average sales by region?**"
      ],
      "metadata": {
        "id": "jYSyIz80Lb15"
      }
    },
    {
      "cell_type": "code",
      "source": [
        "df.groupBy(\"Region\") \\\n",
        "  .agg(F.avg(\"Sales\").alias(\"Avg_Sales\")) \\\n",
        "  .orderBy(F.desc(\"Avg_Sales\")) \\\n",
        "  .show()"
      ],
      "metadata": {
        "colab": {
          "base_uri": "https://localhost:8080/"
        },
        "id": "M5lZYZtrLd32",
        "outputId": "a64ffb77-b292-46d5-f127-693cf7c664af"
      },
      "execution_count": 19,
      "outputs": [
        {
          "output_type": "stream",
          "name": "stdout",
          "text": [
            "+-------+------------------+\n",
            "| Region|         Avg_Sales|\n",
            "+-------+------------------+\n",
            "|  South|248.17799550417496|\n",
            "|   East|245.93614910979176|\n",
            "|   West| 229.8731976629362|\n",
            "|Central|220.71330230040624|\n",
            "+-------+------------------+\n",
            "\n"
          ]
        }
      ]
    },
    {
      "cell_type": "markdown",
      "source": [
        "# **Which cities have the highest number of orders?**"
      ],
      "metadata": {
        "id": "b0mCX_qCQDQO"
      }
    },
    {
      "cell_type": "code",
      "source": [
        "df.groupBy(\"City\") \\\n",
        "  .agg(F.count(\"Order ID\").alias(\"Total_Orders\")) \\\n",
        "  .orderBy(F.desc(\"Total_Orders\")) \\\n",
        "  .show()"
      ],
      "metadata": {
        "colab": {
          "base_uri": "https://localhost:8080/"
        },
        "id": "AWemDdZEQFZK",
        "outputId": "c8edd0a1-77a8-4c95-b9c7-cd7b1733444d"
      },
      "execution_count": 20,
      "outputs": [
        {
          "output_type": "stream",
          "name": "stdout",
          "text": [
            "+-------------+------------+\n",
            "|         City|Total_Orders|\n",
            "+-------------+------------+\n",
            "|New York City|         869|\n",
            "|  Los Angeles|         712|\n",
            "| Philadelphia|         503|\n",
            "|San Francisco|         485|\n",
            "|      Seattle|         410|\n",
            "|      Houston|         367|\n",
            "|      Chicago|         295|\n",
            "|     Columbus|         213|\n",
            "|    San Diego|         166|\n",
            "|  Springfield|         156|\n",
            "|       Dallas|         148|\n",
            "| Jacksonville|         121|\n",
            "|      Detroit|         111|\n",
            "|       Newark|          90|\n",
            "|     Richmond|          79|\n",
            "|      Jackson|          79|\n",
            "|     Columbia|          78|\n",
            "|       Aurora|          67|\n",
            "|      Phoenix|          61|\n",
            "|    Arlington|          59|\n",
            "+-------------+------------+\n",
            "only showing top 20 rows\n",
            "\n"
          ]
        }
      ]
    },
    {
      "cell_type": "markdown",
      "source": [
        "# **Which shipping mode generates the highest total sales?**"
      ],
      "metadata": {
        "id": "jh3KUgq8Qyzo"
      }
    },
    {
      "cell_type": "code",
      "source": [
        "df.groupBy(\"Ship Mode\") \\\n",
        "  .agg(F.sum(\"Sales\").alias(\"Total_Sales\")) \\\n",
        "  .orderBy(F.desc(\"Total_Sales\")) \\\n",
        "  .show()"
      ],
      "metadata": {
        "colab": {
          "base_uri": "https://localhost:8080/"
        },
        "id": "5hZCWXs9Q0sP",
        "outputId": "d9fdb676-fbdc-4b2d-d009-588488bf1ee0"
      },
      "execution_count": 21,
      "outputs": [
        {
          "output_type": "stream",
          "name": "stdout",
          "text": [
            "+--------------+------------------+\n",
            "|     Ship Mode|       Total_Sales|\n",
            "+--------------+------------------+\n",
            "|Standard Class|1325110.5679999827|\n",
            "|  Second Class|444062.46040000016|\n",
            "|   First Class|343716.61730000016|\n",
            "|      Same Day|        124243.517|\n",
            "+--------------+------------------+\n",
            "\n"
          ]
        }
      ]
    },
    {
      "cell_type": "markdown",
      "source": [
        "# **Which customer generated the highest total sales?**"
      ],
      "metadata": {
        "id": "tkcTeVRZRbNi"
      }
    },
    {
      "cell_type": "code",
      "source": [
        "df.groupBy(\"Customer ID\", \"Customer Name\") \\\n",
        "  .agg(F.sum(\"Sales\").alias(\"Total_Sales\")) \\\n",
        "  .orderBy(F.desc(\"Total_Sales\")) \\\n",
        "  .show()"
      ],
      "metadata": {
        "colab": {
          "base_uri": "https://localhost:8080/"
        },
        "id": "qE3lGm0sR2Py",
        "outputId": "f0ef1482-8010-4e55-dd31-dfdf785427fc"
      },
      "execution_count": 22,
      "outputs": [
        {
          "output_type": "stream",
          "name": "stdout",
          "text": [
            "+-----------+------------------+------------------+\n",
            "|Customer ID|     Customer Name|       Total_Sales|\n",
            "+-----------+------------------+------------------+\n",
            "|   SM-20320|       Sean Miller|          25043.05|\n",
            "|   TC-20980|      Tamara Chand|19017.847999999998|\n",
            "|   RB-19360|      Raymond Buch|         15117.339|\n",
            "|   TA-21385|      Tom Ashbrook|          14595.62|\n",
            "|   AB-10105|     Adrian Barton|14355.610999999997|\n",
            "|   SC-20095|      Sanjit Chand|14142.333999999999|\n",
            "|   KL-16645|      Ken Lonsdale|         14071.917|\n",
            "|   HL-15040|      Hunter Lopez|12873.297999999999|\n",
            "|   SE-20110|      Sanjit Engle|12209.438000000002|\n",
            "|   CC-12370|Christopher Conant|         12129.072|\n",
            "|   TS-21370|      Todd Sumrall|         11885.871|\n",
            "|   GT-14710|         Greg Tran|11820.119999999997|\n",
            "|   BM-11140|      Becky Martin|11609.900000000001|\n",
            "|   SV-20365|       Seth Vernon|11420.645999999997|\n",
            "|   CJ-12010|   Caroline Jumper|         11079.742|\n",
            "|   CL-12565|       Clay Ludtke|10880.545999999998|\n",
            "|   ME-17320|     Maria Etezadi|10635.917999999998|\n",
            "|   KF-16285|    Karen Ferguson|         10604.266|\n",
            "|   BS-11365|      Bill Shonely|10501.652999999998|\n",
            "|   EH-13765|      Edward Hooks| 9635.480000000001|\n",
            "+-----------+------------------+------------------+\n",
            "only showing top 20 rows\n",
            "\n"
          ]
        }
      ]
    },
    {
      "cell_type": "markdown",
      "source": [
        "# **How do sales vary over time?**"
      ],
      "metadata": {
        "id": "w6uN8DmITOex"
      }
    },
    {
      "cell_type": "code",
      "source": [
        "df.groupBy(\n",
        "    F.year(F.col(\"Order Date\")).alias(\"Year\"),\n",
        "    F.month(F.col(\"Order Date\")).alias(\"Month\")\n",
        ").agg(\n",
        "    F.sum(\"Sales\").alias(\"Total_Sales\")\n",
        ").orderBy(F.desc(\"Year\"), F.desc(\"Month\")).show()"
      ],
      "metadata": {
        "colab": {
          "base_uri": "https://localhost:8080/"
        },
        "id": "l_-J6KggTQ_F",
        "outputId": "da3c67aa-9ad1-46b6-c765-a1374b830153"
      },
      "execution_count": 23,
      "outputs": [
        {
          "output_type": "stream",
          "name": "stdout",
          "text": [
            "+----+-----+------------------+\n",
            "|Year|Month|       Total_Sales|\n",
            "+----+-----+------------------+\n",
            "|2018|   12|        80428.6858|\n",
            "|2018|   11|116873.71100000002|\n",
            "|2018|   10| 77213.69119999997|\n",
            "|2018|    9| 84870.84200000003|\n",
            "|2018|    8| 62360.36799999999|\n",
            "|2018|    7|44051.136000000006|\n",
            "|2018|    6|47451.563700000006|\n",
            "|2018|    5|        43660.2242|\n",
            "|2018|    4| 35040.54710000001|\n",
            "|2018|    3| 58730.28379999998|\n",
            "|2018|    2|        19882.1864|\n",
            "|2018|    1|         43365.386|\n",
            "|2017|   12| 94815.14500000002|\n",
            "|2017|   11|        78109.4318|\n",
            "|2017|   10| 58032.10300000001|\n",
            "|2017|    9| 67691.44689999995|\n",
            "|2017|    8|30441.228300000002|\n",
            "|2017|    7| 38166.82799999997|\n",
            "|2017|    6| 39008.14399999998|\n",
            "|2017|    5|56126.499999999985|\n",
            "+----+-----+------------------+\n",
            "only showing top 20 rows\n",
            "\n"
          ]
        }
      ]
    },
    {
      "cell_type": "markdown",
      "source": [
        "# **Which product sub-category has the highest average sales per order?**"
      ],
      "metadata": {
        "id": "pCPg5iwDVmgG"
      }
    },
    {
      "cell_type": "code",
      "source": [
        "df.groupBy(\"Sub-Category\") \\\n",
        "  .agg(F.avg(\"Sales\").alias(\"Avg_Sales\")) \\\n",
        "  .orderBy(F.desc(\"Avg_Sales\")) \\\n",
        "  .show()"
      ],
      "metadata": {
        "colab": {
          "base_uri": "https://localhost:8080/"
        },
        "id": "sJ0tejQEVotv",
        "outputId": "fbd17295-eaf0-4c95-baeb-dc62a81c742f"
      },
      "execution_count": 24,
      "outputs": [
        {
          "output_type": "stream",
          "name": "stdout",
          "text": [
            "+------------+------------------+\n",
            "|Sub-Category|         Avg_Sales|\n",
            "+------------+------------------+\n",
            "|     Copiers|2215.8802121212116|\n",
            "|    Machines| 1645.553313043478|\n",
            "|      Tables| 645.8937197452233|\n",
            "|      Chairs| 531.8331647446471|\n",
            "|   Bookcases|503.59822433628307|\n",
            "|      Phones|377.33696082949336|\n",
            "|    Supplies| 266.5822093023256|\n",
            "|     Storage| 263.0768228004958|\n",
            "|  Appliances|227.92680392156856|\n",
            "| Accessories|217.17817460317482|\n",
            "|     Binders|140.08422024233784|\n",
            "| Furnishings| 90.68272911963885|\n",
            "|   Envelopes|  62.4630583333333|\n",
            "|       Paper| 59.61025363489499|\n",
            "|      Labels|34.587467787114846|\n",
            "|         Art| 34.01963057324835|\n",
            "|   Fasteners|14.288688995215308|\n",
            "+------------+------------------+\n",
            "\n"
          ]
        }
      ]
    },
    {
      "cell_type": "markdown",
      "source": [
        "# **Which region has the highest total number of orders?**"
      ],
      "metadata": {
        "id": "-osxVsgYW1s_"
      }
    },
    {
      "cell_type": "code",
      "source": [
        "df.groupBy(\"Region\") \\\n",
        "  .agg(F.count(\"Order ID\").alias(\"Total_Orders\")) \\\n",
        "  .orderBy(F.desc(\"Total_Orders\")) \\\n",
        "  .show()"
      ],
      "metadata": {
        "colab": {
          "base_uri": "https://localhost:8080/"
        },
        "id": "vJmOFEK8W3dm",
        "outputId": "a48c61d0-f017-4b52-c958-a8ee6af3d9e0"
      },
      "execution_count": 25,
      "outputs": [
        {
          "output_type": "stream",
          "name": "stdout",
          "text": [
            "+-------+------------+\n",
            "| Region|Total_Orders|\n",
            "+-------+------------+\n",
            "|   West|        3038|\n",
            "|   East|        2696|\n",
            "|Central|        2217|\n",
            "|  South|        1557|\n",
            "+-------+------------+\n",
            "\n"
          ]
        }
      ]
    },
    {
      "cell_type": "markdown",
      "source": [
        "# **Find the top 3 products with the highest average sales in each Category?**"
      ],
      "metadata": {
        "id": "_biOvwXPdLbB"
      }
    },
    {
      "cell_type": "code",
      "source": [
        "from pyspark.sql.window import Window\n",
        "\n",
        "df_avg = df.groupBy(\"Category\", \"Product Name\").agg(F.avg(\"Sales\").alias(\"Avg_Sales\"))\n",
        "\n",
        "\n",
        "windowSpec = Window.partitionBy(\"Category\").orderBy(F.desc(\"Avg_Sales\"))\n",
        "\n",
        "df_ranked = df_avg.withColumn(\"Rank\", F.row_number().over(windowSpec))\n",
        "\n",
        "df_top3 = df_ranked.filter(F.col(\"Rank\") <= 3)\n",
        "df_top3.show()"
      ],
      "metadata": {
        "colab": {
          "base_uri": "https://localhost:8080/"
        },
        "id": "mXI7IgPFe_A2",
        "outputId": "12941871-e8ef-4e08-8ee4-1c062d3a24ad"
      },
      "execution_count": 26,
      "outputs": [
        {
          "output_type": "stream",
          "name": "stdout",
          "text": [
            "+---------------+--------------------+-----------------+----+\n",
            "|       Category|        Product Name|        Avg_Sales|Rank|\n",
            "+---------------+--------------------+-----------------+----+\n",
            "|      Furniture|Riverside Palais ...|       3122.19312|   1|\n",
            "|      Furniture|HON 5400 Series T...|         2733.822|   2|\n",
            "|      Furniture|Chromcraft Bull-N...|         2396.763|   3|\n",
            "|Office Supplies|High Speed Automa...|5676.770666666666|   1|\n",
            "|Office Supplies|Ibico EPK-21 Elec...|5291.972000000001|   2|\n",
            "|Office Supplies|GBC DocuBind P400...|         2994.178|   3|\n",
            "|     Technology|Cisco TelePresenc...|         22638.48|   1|\n",
            "|     Technology|Canon imageCLASS ...|       12319.9648|   2|\n",
            "|     Technology|Cubify CubeX 3D P...|          7999.98|   3|\n",
            "+---------------+--------------------+-----------------+----+\n",
            "\n"
          ]
        }
      ]
    },
    {
      "cell_type": "markdown",
      "source": [
        "# **For each region, find the most recent order placed and the details of that order**"
      ],
      "metadata": {
        "id": "f8Cd--ukrifg"
      }
    },
    {
      "cell_type": "code",
      "source": [
        "windowSpec = Window.partitionBy('Region').orderBy(F.desc('Order Date'))\n",
        "\n",
        "df_recentOrder = df.withColumn('Rank of Orders', F.row_number().over(windowSpec))\n",
        "df_recentOrder.filter(F.col(\"Rank of Orders\") == 1).show()"
      ],
      "metadata": {
        "colab": {
          "base_uri": "https://localhost:8080/"
        },
        "id": "0fthWektrh3q",
        "outputId": "44431c54-9ffd-442a-e825-24c89915290c"
      },
      "execution_count": 27,
      "outputs": [
        {
          "output_type": "stream",
          "name": "stdout",
          "text": [
            "+------+--------------+----------+----------+--------------+-----------+-----------------+-----------+-------------+-------------+----------+-----------+-------+---------------+---------------+------------+--------------------+-------+--------------+\n",
            "|Row ID|      Order ID|Order Date| Ship Date|     Ship Mode|Customer ID|    Customer Name|    Segment|      Country|         City|     State|Postal Code| Region|     Product ID|       Category|Sub-Category|        Product Name|  Sales|Rank of Orders|\n",
            "+------+--------------+----------+----------+--------------+-----------+-----------------+-----------+-------------+-------------+----------+-----------+-------+---------------+---------------+------------+--------------------+-------+--------------+\n",
            "|   646|CA-2018-126221|2018-12-30|2019-01-05|Standard Class|   CC-12430|      Chuck Clark|Home Office|United States|     Columbus|   Indiana|      47201|Central|OFF-AP-10002457|Office Supplies|  Appliances|Eureka The Boss P...|  209.3|             1|\n",
            "|   907|CA-2018-143259|2018-12-30|2019-01-03|Standard Class|   PO-18865|Patrick O'Donnell|   Consumer|United States|New York City|  New York|      10009|   East|FUR-BO-10003441|      Furniture|   Bookcases|Bush Westfield Co...|323.136|             1|\n",
            "|  7633|US-2018-158526|2018-12-29|2019-01-01|  Second Class|   KH-16360| Katherine Hughes|   Consumer|United States|   Louisville|  Kentucky|      40214|  South|FUR-CH-10002602|      Furniture|      Chairs|DMI Arturo Collec...|1207.84|             1|\n",
            "|  1297|CA-2018-115427|2018-12-30|2019-01-03|Standard Class|   EB-13975|       Erica Bern|  Corporate|United States|    Fairfield|California|      94533|   West|OFF-BI-10002103|Office Supplies|     Binders|Cardinal Slant-D ...| 13.904|             1|\n",
            "+------+--------------+----------+----------+--------------+-----------+-----------------+-----------+-------------+-------------+----------+-----------+-------+---------------+---------------+------------+--------------------+-------+--------------+\n",
            "\n"
          ]
        }
      ]
    },
    {
      "cell_type": "code",
      "source": [
        "df_recentOrder.select(\"Region\", \"Order Date\", \"Order ID\", \"Customer Name\", \"Rank of Orders\").filter(F.col(\"Rank of Orders\") == 1).show()"
      ],
      "metadata": {
        "colab": {
          "base_uri": "https://localhost:8080/"
        },
        "id": "ChDNT8a4tkSk",
        "outputId": "1385f95b-ef6e-411d-b2e9-78da3ee11e4e"
      },
      "execution_count": 28,
      "outputs": [
        {
          "output_type": "stream",
          "name": "stdout",
          "text": [
            "+-------+----------+--------------+-----------------+--------------+\n",
            "| Region|Order Date|      Order ID|    Customer Name|Rank of Orders|\n",
            "+-------+----------+--------------+-----------------+--------------+\n",
            "|Central|2018-12-30|CA-2018-126221|      Chuck Clark|             1|\n",
            "|   East|2018-12-30|CA-2018-143259|Patrick O'Donnell|             1|\n",
            "|  South|2018-12-29|US-2018-158526| Katherine Hughes|             1|\n",
            "|   West|2018-12-30|CA-2018-115427|       Erica Bern|             1|\n",
            "+-------+----------+--------------+-----------------+--------------+\n",
            "\n"
          ]
        }
      ]
    },
    {
      "cell_type": "markdown",
      "source": [
        "# **For each customer, find their most expensive order based on the Sales value?**"
      ],
      "metadata": {
        "id": "yWztvanPtMnI"
      }
    },
    {
      "cell_type": "code",
      "source": [
        "windowSpec1 = Window.partitionBy(\"Customer ID\").orderBy(F.desc(\"Sales\"))\n",
        "df1 = df.withColumn(\"Rank of Expensive Orders\", F.row_number().over(windowSpec1))\n",
        "df1.select('Customer Name', 'Order ID', 'Product Name', 'Sales').filter(F.col(\"Rank of Expensive Orders\") == 1).show()"
      ],
      "metadata": {
        "colab": {
          "base_uri": "https://localhost:8080/"
        },
        "id": "7hVJX5_LtPHZ",
        "outputId": "d891cc20-e7b0-4839-b096-e13729baeb26"
      },
      "execution_count": 31,
      "outputs": [
        {
          "output_type": "stream",
          "name": "stdout",
          "text": [
            "+--------------------+--------------+--------------------+--------+\n",
            "|       Customer Name|      Order ID|        Product Name|   Sales|\n",
            "+--------------------+--------------+--------------------+--------+\n",
            "|          Alex Avila|CA-2017-103982|High Speed Automa...|3930.072|\n",
            "|        Allen Armold|CA-2017-131065|Logitech diNovo E...|  499.98|\n",
            "|        Andrew Allen|CA-2017-114601|NETGEAR AC1750 Du...|  479.97|\n",
            "|       Anna Andreadi|CA-2016-110863|Hon Olson Stacker...|  1323.9|\n",
            "|       Aaron Bergman|CA-2017-140935|Sauder Facets Col...|  341.96|\n",
            "|     Adam Bellavance|CA-2017-129714|GBC DocuBind P400...|4355.168|\n",
            "|       Adrian Barton|CA-2017-117121|GBC Ibimaster 500...| 9892.74|\n",
            "|         Aimee Bixby|CA-2015-169061|Logitech Wireless...|  479.97|\n",
            "|         Alan Barnes|CA-2016-115945|Tennsco Regal She...|  304.23|\n",
            "|Alejandro Ballentine|CA-2018-126662|Brother DCP1000 D...| 479.984|\n",
            "|           Ann Blume|US-2018-155425|Hon 2090 “Pillow ...| 899.136|\n",
            "|       Alyssa Crouse|CA-2015-129924|Hon 5100 Series W...| 698.352|\n",
            "|             Amy Cox|CA-2018-141789|GBC DocuBind TL30...| 1793.98|\n",
            "|           Ann Chong|CA-2018-157987|Global Commerce S...| 1282.41|\n",
            "|          Anna Chung|CA-2017-161928|Ooma Telo VoIP Ho...| 201.584|\n",
            "|      Alan Dominguez|CA-2018-127432|Canon Image Class...| 2999.95|\n",
            "|        Art Ferguson|CA-2017-146934|Eureka Sanitaire ...|  662.84|\n",
            "|          Art Foster|CA-2015-114181|Bestar Classic Bo...| 349.965|\n",
            "|     Alejandro Grove|CA-2017-105732|Electrix Architec...| 1336.44|\n",
            "| Aleksandra Gannaway|CA-2015-147298|Bevis Steel Foldi...|  230.28|\n",
            "+--------------------+--------------+--------------------+--------+\n",
            "only showing top 20 rows\n",
            "\n"
          ]
        }
      ]
    },
    {
      "cell_type": "markdown",
      "source": [
        "# **For each region, which product category has the highest total sales contribution?**"
      ],
      "metadata": {
        "id": "zcqLofNq0tjw"
      }
    },
    {
      "cell_type": "code",
      "source": [
        "df2 = df.groupBy('Region', 'Category') \\\n",
        "        .agg(F.sum('Sales').alias('Total Sales Per Category'))\n",
        "\n",
        "windowSpec2 = Window.partitionBy('Region').orderBy(F.desc('Total Sales Per Category'))\n",
        "\n",
        "df_highest_sales = df2.withColumn('Rank Of Product Category In Each Region', F.row_number().over(windowSpec2))\n",
        "\n",
        "df_highest_sales.filter(F.col('Rank Of Product Category In Each Region') == 1) \\\n",
        "                .select('Region', 'Category', 'Total Sales Per Category') \\\n",
        "                .show()"
      ],
      "metadata": {
        "colab": {
          "base_uri": "https://localhost:8080/"
        },
        "id": "Xk7nxFMc0u-T",
        "outputId": "2e2a62a4-2119-4bea-a3ad-453d66532a9a"
      },
      "execution_count": 40,
      "outputs": [
        {
          "output_type": "stream",
          "name": "stdout",
          "text": [
            "+-------+----------+------------------------+\n",
            "| Region|  Category|Total Sales Per Category|\n",
            "+-------+----------+------------------------+\n",
            "|Central|Technology|      168724.42799999993|\n",
            "|   East|Technology|      263014.62900000036|\n",
            "|  South|Technology|      148153.82399999994|\n",
            "|   West|Technology|      247309.02599999995|\n",
            "+-------+----------+------------------------+\n",
            "\n"
          ]
        }
      ]
    }
  ]
}